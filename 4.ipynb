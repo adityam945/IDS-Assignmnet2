{
 "cells": [
  {
   "cell_type": "markdown",
   "id": "f9d5ca80",
   "metadata": {},
   "source": [
    "ii) Find the cosine similarity between documents? Identify the two documents that are most similar."
   ]
  },
  {
   "cell_type": "code",
   "execution_count": 1,
   "id": "451e8890",
   "metadata": {},
   "outputs": [],
   "source": [
    "import numpy as np\n",
    "# import pandas as pd\n",
    "import math\n",
    "# import cosine_similarity from sklearn module \n",
    "from sklearn.metrics.pairwise import cosine_similarity\n"
   ]
  },
  {
   "cell_type": "code",
   "execution_count": 2,
   "id": "75bc6fc8",
   "metadata": {},
   "outputs": [],
   "source": [
    "# occurances of layoff in d3\n",
    "word_occurances_d3 = 23"
   ]
  },
  {
   "cell_type": "code",
   "execution_count": 3,
   "id": "589739b4",
   "metadata": {},
   "outputs": [],
   "source": [
    "term_frequency_d3 = 12/ word_occurances_d3\n"
   ]
  },
  {
   "cell_type": "markdown",
   "id": "444b9b13",
   "metadata": {},
   "source": [
    "i) Tf IDF value of D3"
   ]
  },
  {
   "cell_type": "code",
   "execution_count": 8,
   "id": "69bcfa06",
   "metadata": {},
   "outputs": [
    {
     "name": "stdout",
     "output_type": "stream",
     "text": [
      "TF IDF is 0.5217391304347826\n"
     ]
    }
   ],
   "source": [
    "# IDF_value\n",
    "IDF_value = math.log(6/3, 2)\n",
    "TF_IDF_D2 = term_frequency_d3 * IDF_value\n",
    "print(\"TF IDF is\", TF_IDF_D2)"
   ]
  },
  {
   "cell_type": "markdown",
   "id": "367fbbea",
   "metadata": {},
   "source": [
    "ii) cosine similarity"
   ]
  },
  {
   "cell_type": "markdown",
   "id": "3cae4094",
   "metadata": {},
   "source": [
    "Matrix representation of the table/data"
   ]
  },
  {
   "cell_type": "code",
   "execution_count": 10,
   "id": "4d155503",
   "metadata": {},
   "outputs": [],
   "source": [
    "matrix_table = np.array([[19, 12, 4, 6, 0],\n",
    "                 [0, 2, 0, 0, 14],\n",
    "                 [8, 0, 3, 12, 0],\n",
    "                 [0, 5, 10, 0, 1],\n",
    "                 [0, 0, 0, 0, 4],\n",
    "                 [4, 19, 2, 6, 0]])"
   ]
  },
  {
   "cell_type": "code",
   "execution_count": 11,
   "id": "e60ca713",
   "metadata": {},
   "outputs": [
    {
     "name": "stdout",
     "output_type": "stream",
     "text": [
      "[[1.         0.07190658 0.67881986 0.37747408 0.         0.72207718]\n",
      " [0.07190658 1.         0.         0.15118579 0.98994949 0.13158324]\n",
      " [0.67881986 0.         1.         0.18142875 0.         0.3656746 ]\n",
      " [0.37747408 0.15118579 0.18142875 1.         0.08908708 0.50170051]\n",
      " [0.         0.98994949 0.         0.08908708 1.         0.        ]\n",
      " [0.72207718 0.13158324 0.3656746  0.50170051 0.         1.        ]]\n"
     ]
    }
   ],
   "source": [
    "cosine_similarity_matrix_table = cosine_similarity(matrix_table)\n",
    "print(cosine_similarity_matrix_table)"
   ]
  },
  {
   "cell_type": "markdown",
   "id": "fe8cc3db",
   "metadata": {},
   "source": [
    "From the above table of cosine similarity if the given matrix table, D1 and D6 are the most similar documents."
   ]
  },
  {
   "cell_type": "markdown",
   "id": "7a0fcf55",
   "metadata": {},
   "source": [
    "iii) in word doc"
   ]
  },
  {
   "cell_type": "code",
   "execution_count": null,
   "id": "f762dcac",
   "metadata": {},
   "outputs": [],
   "source": []
  }
 ],
 "metadata": {
  "kernelspec": {
   "display_name": "Python 3 (ipykernel)",
   "language": "python",
   "name": "python3"
  },
  "language_info": {
   "codemirror_mode": {
    "name": "ipython",
    "version": 3
   },
   "file_extension": ".py",
   "mimetype": "text/x-python",
   "name": "python",
   "nbconvert_exporter": "python",
   "pygments_lexer": "ipython3",
   "version": "3.10.9"
  }
 },
 "nbformat": 4,
 "nbformat_minor": 5
}
