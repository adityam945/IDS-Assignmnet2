{
 "cells": [
  {
   "cell_type": "code",
   "execution_count": 70,
   "id": "d36ea65c",
   "metadata": {},
   "outputs": [
    {
     "name": "stdout",
     "output_type": "stream",
     "text": [
      "NLTK Downloader\n",
      "---------------------------------------------------------------------------\n",
      "    d) Download   l) List    u) Update   c) Config   h) Help   q) Quit\n",
      "---------------------------------------------------------------------------\n",
      "Downloader> q\n"
     ]
    },
    {
     "data": {
      "text/plain": [
       "True"
      ]
     },
     "execution_count": 70,
     "metadata": {},
     "output_type": "execute_result"
    }
   ],
   "source": [
    "import nltk\n",
    "# trying to list and find a library\n",
    "nltk.download()"
   ]
  },
  {
   "cell_type": "markdown",
   "id": "921f60e1",
   "metadata": {},
   "source": [
    "exploring the dataset\n",
    "i) \n",
    "preprocess the data import the libraries"
   ]
  },
  {
   "cell_type": "code",
   "execution_count": 28,
   "id": "9da2d0e8",
   "metadata": {},
   "outputs": [
    {
     "name": "stderr",
     "output_type": "stream",
     "text": [
      "[nltk_data] Downloading package gutenberg to\n",
      "[nltk_data]     /Users/adityam/nltk_data...\n",
      "[nltk_data]   Package gutenberg is already up-to-date!\n"
     ]
    },
    {
     "data": {
      "text/plain": [
       "True"
      ]
     },
     "execution_count": 28,
     "metadata": {},
     "output_type": "execute_result"
    }
   ],
   "source": [
    "# downloading the gutenberg library\n",
    "nltk.download('gutenberg')"
   ]
  },
  {
   "cell_type": "code",
   "execution_count": 36,
   "id": "1f69dcb2",
   "metadata": {},
   "outputs": [],
   "source": [
    "# import tokenizeer and corpus\n",
    "from nltk.tokenize import word_tokenize, sent_tokenize\n",
    "from nltk.corpus import stopwords"
   ]
  },
  {
   "cell_type": "code",
   "execution_count": 37,
   "id": "7457818d",
   "metadata": {},
   "outputs": [
    {
     "data": {
      "text/plain": [
       "['austen-emma.txt',\n",
       " 'austen-persuasion.txt',\n",
       " 'austen-sense.txt',\n",
       " 'bible-kjv.txt',\n",
       " 'blake-poems.txt',\n",
       " 'bryant-stories.txt',\n",
       " 'burgess-busterbrown.txt',\n",
       " 'carroll-alice.txt',\n",
       " 'chesterton-ball.txt',\n",
       " 'chesterton-brown.txt',\n",
       " 'chesterton-thursday.txt',\n",
       " 'edgeworth-parents.txt',\n",
       " 'melville-moby_dick.txt',\n",
       " 'milton-paradise.txt',\n",
       " 'shakespeare-caesar.txt',\n",
       " 'shakespeare-hamlet.txt',\n",
       " 'shakespeare-macbeth.txt',\n",
       " 'whitman-leaves.txt']"
      ]
     },
     "execution_count": 37,
     "metadata": {},
     "output_type": "execute_result"
    }
   ],
   "source": [
    "# exlporing database \n",
    "nltk.corpus.gutenberg.fileids()"
   ]
  },
  {
   "cell_type": "code",
   "execution_count": 52,
   "id": "ae69c53d",
   "metadata": {},
   "outputs": [
    {
     "name": "stdout",
     "output_type": "stream",
     "text": [
      "5 25 26 austen-emma.txt\n",
      "5 26 17 austen-persuasion.txt\n",
      "5 28 22 austen-sense.txt\n",
      "4 34 79 bible-kjv.txt\n",
      "5 19 5 blake-poems.txt\n",
      "4 19 14 bryant-stories.txt\n",
      "4 18 12 burgess-busterbrown.txt\n",
      "4 20 13 carroll-alice.txt\n",
      "5 20 12 chesterton-ball.txt\n",
      "5 23 11 chesterton-brown.txt\n",
      "5 18 11 chesterton-thursday.txt\n",
      "4 21 25 edgeworth-parents.txt\n",
      "5 26 15 melville-moby_dick.txt\n",
      "5 52 11 milton-paradise.txt\n",
      "4 12 9 shakespeare-caesar.txt\n",
      "4 12 8 shakespeare-hamlet.txt\n",
      "4 12 7 shakespeare-macbeth.txt\n",
      "5 36 12 whitman-leaves.txt\n"
     ]
    }
   ],
   "source": [
    "for fileid in gutenberg.fileids():\n",
    "     num_chars = len(gutenberg.raw(fileid)) # [_raw-access]\n",
    "     num_words = len(gutenberg.words(fileid))\n",
    "     num_sents = len(gutenberg.sents(fileid))\n",
    "     num_vocab = len(set(w.lower() for w in gutenberg.words(fileid)))\n",
    "     print(round(num_chars/num_words), round(num_words/num_sents), round(num_words/num_vocab), fileid)"
   ]
  },
  {
   "cell_type": "code",
   "execution_count": 51,
   "id": "1a2b63f5",
   "metadata": {},
   "outputs": [
    {
     "data": {
      "text/plain": [
       "[['[', 'Emma', 'by', 'Jane', 'Austen', '1816', ']'], ['VOLUME', 'I'], ...]"
      ]
     },
     "execution_count": 51,
     "metadata": {},
     "output_type": "execute_result"
    }
   ],
   "source": [
    "macbeth_sentences = gutenberg.sents('austen-emma.txt')\n",
    "macbeth_sentences"
   ]
  },
  {
   "cell_type": "code",
   "execution_count": 58,
   "id": "de133c46",
   "metadata": {},
   "outputs": [
    {
     "name": "stdout",
     "output_type": "stream",
     "text": [
      "['[', 'Emma', 'by', 'Jane', 'Austen', '1816', ']', ...]\n",
      "['[', 'Persuasion', 'by', 'Jane', 'Austen', '1818', ...]\n",
      "['[', 'Sense', 'and', 'Sensibility', 'by', 'Jane', ...]\n",
      "['[', 'The', 'King', 'James', 'Bible', ']', 'The', ...]\n",
      "['[', 'Poems', 'by', 'William', 'Blake', '1789', ']', ...]\n",
      "['[', 'Stories', 'to', 'Tell', 'to', 'Children', 'by', ...]\n",
      "['[', 'The', 'Adventures', 'of', 'Buster', 'Bear', ...]\n",
      "['[', 'Alice', \"'\", 's', 'Adventures', 'in', ...]\n",
      "['[', 'The', 'Ball', 'and', 'The', 'Cross', 'by', 'G', ...]\n",
      "['[', 'The', 'Wisdom', 'of', 'Father', 'Brown', 'by', ...]\n",
      "['[', 'The', 'Man', 'Who', 'Was', 'Thursday', 'by', ...]\n",
      "['[', 'The', 'Parent', \"'\", 's', 'Assistant', ',', ...]\n",
      "['[', 'Moby', 'Dick', 'by', 'Herman', 'Melville', ...]\n",
      "['[', 'Paradise', 'Lost', 'by', 'John', 'Milton', ...]\n",
      "['[', 'The', 'Tragedie', 'of', 'Julius', 'Caesar', ...]\n",
      "['[', 'The', 'Tragedie', 'of', 'Hamlet', 'by', ...]\n",
      "['[', 'The', 'Tragedie', 'of', 'Macbeth', 'by', ...]\n",
      "['[', 'Leaves', 'of', 'Grass', 'by', 'Walt', 'Whitman', ...]\n"
     ]
    }
   ],
   "source": [
    "for fileid in gutenberg.fileids():\n",
    "    num_sents = gutenberg.words(fileid)\n",
    "    print(num_sents)"
   ]
  },
  {
   "cell_type": "code",
   "execution_count": 60,
   "id": "105d791e",
   "metadata": {},
   "outputs": [],
   "source": [
    "from nltk.corpus import gutenberg\n",
    "# \n",
    "stop_words = set(stopwords.words('english'))\n",
    "# tokenization\n",
    "gutenberg_raw = [gutenberg.raw(fileid) for fileid in gutenberg.fileids()]\n",
    "gutenberg_tokenized = [word_tokenize(review) for review in gutenberg_raw]\n",
    "\n",
    "# remove stop words and convert to lowercase\n",
    "gutenberg_processed = [[word.lower() for word in review if word not in stop_words] for review in gutenberg_tokenized]\n"
   ]
  },
  {
   "cell_type": "markdown",
   "id": "cb759637",
   "metadata": {},
   "source": [
    "ii)\n",
    "Stemming and lemmatization are techniques used to reduce words to their base or root form. \n",
    "Stemming is a process that stems or removes last few characters from a word, often leading to incorrect meanings and spelling.\n",
    "Lemmatization considers the context and converts the word to its meaningful base form, which is called Lemma."
   ]
  },
  {
   "cell_type": "code",
   "execution_count": 65,
   "id": "dd8fa6b8",
   "metadata": {},
   "outputs": [],
   "source": [
    "from nltk.stem import PorterStemmer, WordNetLemmatizer\n"
   ]
  },
  {
   "cell_type": "code",
   "execution_count": 72,
   "id": "019ddd52",
   "metadata": {},
   "outputs": [],
   "source": [
    "# stemming\n",
    "stemmer = PorterStemmer()\n",
    "gutenberg_stemmed = [[stemmer.stem(word) for word in review] for review in gutenberg_processed]"
   ]
  },
  {
   "cell_type": "code",
   "execution_count": 73,
   "id": "87a37f18",
   "metadata": {},
   "outputs": [],
   "source": [
    "# lemmatization\n",
    "lemmatizer = WordNetLemmatizer()\n",
    "gutenberg_lemmatized = [[lemmatizer.lemmatize(word) for word in review] for review in gutenberg_processed]"
   ]
  },
  {
   "cell_type": "markdown",
   "id": "09a2d447",
   "metadata": {},
   "source": [
    "Both stemming and lemmatization is implement on the preprocessed data. \n",
    "The stemmed and lemmatized data are stored in separate variables.\n",
    "Stemming is a faster and simpler technique compared to lemmatization, as it involves only removing the suffix from a word. However, stemming may not always result in a valid word, as the base form may not exist in the English language. On the other hand, lemmatization maps a word to its base form based on a dictionary, which ensures that the resulting word is valid.\n",
    "Lemmatization is a slower technique compared to stemming. Also, lemmatization is preferred over stemming as it results in more meaningful base forms. However, in situations where speed is a crucial factor, stemming may be preferred.\n"
   ]
  },
  {
   "cell_type": "markdown",
   "id": "ce03ccfd",
   "metadata": {},
   "source": [
    "iii)Text Statistics and Visualization"
   ]
  },
  {
   "cell_type": "code",
   "execution_count": 74,
   "id": "770c013b",
   "metadata": {},
   "outputs": [
    {
     "name": "stdout",
     "output_type": "stream",
     "text": [
      "Common words:  [(',', 192339), ('.', 76300), ('i', 30139), (';', 27942), (\"''\", 17043), ('and', 16570), (':', 16523), ('``', 14119), ('shall', 11679), ('?', 10342), ('--', 9581), ('said', 9427), (\"'s\", 9156), ('unto', 9010), ('!', 8660), ('lord', 8565), ('the', 7805), ('thou', 6750), ('one', 6181), ('thy', 5607)]\n",
      "\n",
      "Average word length:  4.263601176850996\n"
     ]
    }
   ],
   "source": [
    "from nltk.probability import FreqDist\n",
    "\n",
    "# frequency distribution of words\n",
    "all_words = [word for review in gutenberg_processed for word in review]\n",
    "fdist = FreqDist(all_words)\n",
    "\n",
    "# average word length\n",
    "avg_word_length = sum(len(word) for word in all_words) / len(all_words)\n",
    "print(\"\\nAverage word length: \",avg_word_length)\n",
    "\n",
    "# most common words\n",
    "common_words = fdist.most_common(20)\n",
    "print(\"Common words: \",common_words)\n"
   ]
  },
  {
   "cell_type": "code",
   "execution_count": 75,
   "id": "1d017d29",
   "metadata": {},
   "outputs": [
    {
     "data": {
      "image/png": "[encoded data removed]",
      "text/plain": [
       "<Figure size 640x480 with 1 Axes>"
      ]
     },
     "metadata": {},
     "output_type": "display_data"
    },
    {
     "data": {
      "image/png": "[encoded data removed]",
      "text/plain": [
       "<Figure size 640x480 with 1 Axes>"
      ]
     },
     "metadata": {},
     "output_type": "display_data"
    },
    {
     "data": {
      "image/png": "[encoded data removed]",
      "text/plain": [
       "<Figure size 640x480 with 1 Axes>"
      ]
     },
     "metadata": {},
     "output_type": "display_data"
    }
   ],
   "source": [
    "import matplotlib.pyplot as plt\n",
    "\n",
    "# plot frequency distribution\n",
    "fdist.plot(30, cumulative=False)\n",
    "\n",
    "# plot average word length\n",
    "plt.bar(['Average Word Length'], [avg_word_length])\n",
    "plt.show()\n",
    "\n",
    "# plot most common words\n",
    "plt.bar(*zip(*common_words))\n",
    "plt.show()"
   ]
  },
  {
   "cell_type": "markdown",
   "id": "b85e73b2",
   "metadata": {},
   "source": [
    "To visualize the results, I used matplotlib.\n",
    "frequency distribution of words, the most common words, and the average word length using bar charts.\n",
    "The above charts provide insights into the movie reviews dataset like, most common words used and the average length of words used. These insights can be used to guide further analysis of the dataset."
   ]
  },
  {
   "cell_type": "markdown",
   "id": "26027d34",
   "metadata": {},
   "source": [
    "iv) LDA"
   ]
  },
  {
   "cell_type": "code",
   "execution_count": 78,
   "id": "99afa7ea",
   "metadata": {},
   "outputs": [],
   "source": [
    "# usin gensim library\n",
    "import gensim\n",
    "from gensim import corpora\n",
    "\n",
    "# create dictionary from preprocessed movie reviews\n",
    "dictionary = corpora.Dictionary(gutenberg_processed)\n",
    "\n",
    "# create corpus from dictionary and movie reviews\n",
    "corpus = [dictionary.doc2bow(review) for review in gutenberg_processed]\n",
    "\n",
    "# train LDA model on corpus\n",
    "num_topics = 10\n",
    "lda_model = gensim.models.ldamodel.LdaModel(corpus, num_topics=num_topics, id2word=dictionary, passes=15)"
   ]
  },
  {
   "cell_type": "markdown",
   "id": "ea7ab6f4",
   "metadata": {},
   "source": [
    "The idx variable represents the index of the topic, and the topic variable represents the top words associated with the topic."
   ]
  },
  {
   "cell_type": "code",
   "execution_count": 79,
   "id": "39d45c82",
   "metadata": {},
   "outputs": [
    {
     "name": "stdout",
     "output_type": "stream",
     "text": [
      "Topic: 0 \n",
      "Words: 0.077*\",\" + 0.071*\".\" + 0.036*\"''\" + 0.031*\"``\" + 0.017*\"i\" + 0.012*\"said\" + 0.008*\"the\" + 0.008*\";\" + 0.007*\"like\" + 0.007*\"?\"\n",
      "Topic: 1 \n",
      "Words: 0.124*\",\" + 0.046*\".\" + 0.023*\"and\" + 0.023*\":\" + 0.018*\";\" + 0.017*\"shall\" + 0.016*\"unto\" + 0.015*\"i\" + 0.014*\"lord\" + 0.010*\"thou\"\n",
      "Topic: 2 \n",
      "Words: 0.005*\",\" + 0.002*\".\" + 0.001*\";\" + 0.001*\"''\" + 0.001*\"i\" + 0.001*\"``\" + 0.000*\":\" + 0.000*\"!\" + 0.000*\"?\" + 0.000*\"and\"\n",
      "Topic: 3 \n",
      "Words: 0.107*\",\" + 0.068*\".\" + 0.023*\":\" + 0.021*\"i\" + 0.015*\"?\" + 0.010*\"and\" + 0.009*\"'d\" + 0.007*\";\" + 0.006*\"haue\" + 0.005*\"ham\"\n",
      "Topic: 4 \n",
      "Words: 0.002*\",\" + 0.001*\".\" + 0.000*\";\" + 0.000*\"i\" + 0.000*\"''\" + 0.000*\"``\" + 0.000*\":\" + 0.000*\"and\" + 0.000*\"?\" + 0.000*\"shall\"\n",
      "Topic: 5 \n",
      "Words: 0.146*\",\" + 0.028*\".\" + 0.021*\";\" + 0.017*\"i\" + 0.010*\"!\" + 0.008*\"the\" + 0.008*\"--\" + 0.007*\"'s\" + 0.006*\"?\" + 0.005*\"and\"\n",
      "Topic: 6 \n",
      "Words: 0.004*\",\" + 0.001*\".\" + 0.001*\";\" + 0.001*\":\" + 0.001*\"i\" + 0.000*\"and\" + 0.000*\"unto\" + 0.000*\"shall\" + 0.000*\"lord\" + 0.000*\"thou\"\n",
      "Topic: 7 \n",
      "Words: 0.001*\",\" + 0.001*\".\" + 0.000*\"i\" + 0.000*\";\" + 0.000*\":\" + 0.000*\"''\" + 0.000*\"and\" + 0.000*\"shall\" + 0.000*\"?\" + 0.000*\"'s\"\n",
      "Topic: 8 \n",
      "Words: 0.004*\",\" + 0.002*\".\" + 0.001*\":\" + 0.001*\"i\" + 0.001*\";\" + 0.001*\"and\" + 0.001*\"shall\" + 0.001*\"unto\" + 0.000*\"lord\" + 0.000*\"''\"\n",
      "Topic: 9 \n",
      "Words: 0.117*\",\" + 0.056*\".\" + 0.025*\"i\" + 0.024*\"''\" + 0.020*\";\" + 0.019*\"``\" + 0.014*\"--\" + 0.009*\"!\" + 0.009*\"'s\" + 0.008*\"said\"\n"
     ]
    }
   ],
   "source": [
    "# print topics and top words\n",
    "for idx, topic in lda_model.print_topics(-1):\n",
    "    print('Topic: {} \\nWords: {}'.format(idx, topic))\n"
   ]
  },
  {
   "attachments": {},
   "cell_type": "markdown",
   "id": "7419dae7",
   "metadata": {},
   "source": [
    "NLTK Gutenberg dataset consists of 18 classic English texts from Gutenberg Project. Some potential biases and limitations:\n",
    "We have to consider these limitations and potential biases with the Gutenberg dataset. \n",
    "a.\tThough the dataset has a wide range of genres, it is still a relatively small dataset compared to other modern text datasets, which can limit the generalizability of models trained on it.\n",
    "b.\tThe Gutenberg dataset texts are from 19th century or earlier, mostly the data set will reflect the references of cultural and history of that time\n",
    "c.\tThe Gutenberg dataset only includes texts written in English, which means that it may not be representative of other languages or cultures.\n",
    "Improve the limitations. \n",
    "a.\tFirst step might be to generalizability of the LDA model, use larger datasets.\n",
    "b.\tAlso we can combine multiple datasets to increase the diversity of the training data.\n",
    "c.\tUse additional visualization techniques, such as word clouds or topic coherence measures, to help users understand the meaning of the topics more easily.\n",
    "d.\tHyperparameters should be optimized, we can use techniques such as Bayesian optimization to find optimal hyperparameters."
   ]
  },
  {
   "cell_type": "code",
   "execution_count": null,
   "id": "4f5adead",
   "metadata": {},
   "outputs": [],
   "source": []
  }
 ],
 "metadata": {
  "kernelspec": {
   "display_name": "Python 3 (ipykernel)",
   "language": "python",
   "name": "python3"
  },
  "language_info": {
   "codemirror_mode": {
    "name": "ipython",
    "version": 3
   },
   "file_extension": ".py",
   "mimetype": "text/x-python",
   "name": "python",
   "nbconvert_exporter": "python",
   "pygments_lexer": "ipython3",
   "version": "3.10.9"
  },
  "vscode": {
   "interpreter": {
    "hash": "5c7b89af1651d0b8571dde13640ecdccf7d5a6204171d6ab33e7c296e100e08a"
   }
  }
 },
 "nbformat": 4,
 "nbformat_minor": 5
}
